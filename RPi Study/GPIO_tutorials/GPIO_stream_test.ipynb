{
 "cells": [
  {
   "cell_type": "code",
   "execution_count": null,
   "metadata": {},
   "outputs": [],
   "source": []
  },
  {
   "cell_type": "code",
   "execution_count": 6,
   "metadata": {},
   "outputs": [],
   "source": [
    "import requests\n",
    "\n",
    "# 라즈베리파이의 IP 주소와 Flask 서버 포트\n",
    "server_ip = \"192.168.0.80\"  # 라즈베리파이의 실제 IP 주소로 변경\n",
    "url = f\"http://{server_ip}:5000/sensor\""
   ]
  },
  {
   "cell_type": "code",
   "execution_count": 18,
   "metadata": {},
   "outputs": [
    {
     "name": "stdout",
     "output_type": "stream",
     "text": [
      "Distance : 13.21\n",
      "Distance : 14.31\n",
      "Distance : 12.96\n",
      "Distance : 12.91\n"
     ]
    }
   ],
   "source": [
    "import time \n",
    "for _ in range(4):\n",
    "    response = requests.get(url)\n",
    "    response.raise_for_status()  # HTTP 에러 발생 시 예외 처리\n",
    "    data = response.json()       # JSON 응답 파싱\n",
    "    print(f\"Distance : {data.get(\"sensor_value\"):.2f}\")\n",
    "    time.sleep(0.5)"
   ]
  },
  {
   "cell_type": "code",
   "execution_count": null,
   "metadata": {},
   "outputs": [],
   "source": []
  }
 ],
 "metadata": {
  "kernelspec": {
   "display_name": "Python 3",
   "language": "python",
   "name": "python3"
  },
  "language_info": {
   "codemirror_mode": {
    "name": "ipython",
    "version": 3
   },
   "file_extension": ".py",
   "mimetype": "text/x-python",
   "name": "python",
   "nbconvert_exporter": "python",
   "pygments_lexer": "ipython3",
   "version": "3.12.3"
  }
 },
 "nbformat": 4,
 "nbformat_minor": 2
}
