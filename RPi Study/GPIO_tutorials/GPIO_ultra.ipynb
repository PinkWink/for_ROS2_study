{
 "cells": [
  {
   "cell_type": "code",
   "execution_count": 1,
   "metadata": {},
   "outputs": [],
   "source": [
    "import RPi.GPIO as GPIO\n",
    "import time\n",
    "\n",
    "#us sensor\n",
    "TRIG = 23\n",
    "ECHO = 24"
   ]
  },
  {
   "cell_type": "code",
   "execution_count": 2,
   "metadata": {},
   "outputs": [],
   "source": [
    "class Ultrasonic:\n",
    "    def __init__(self):\n",
    "        GPIO.setmode(GPIO.BCM)\n",
    "        GPIO.setup(TRIG, GPIO.OUT)\n",
    "        GPIO.setup(ECHO, GPIO.IN)\n",
    "\n",
    "    def get_dist(self):\n",
    "        GPIO.output(TRIG, True)\n",
    "        time.sleep(0.00001)\n",
    "        GPIO.output(TRIG, False)\n",
    "\n",
    "        while GPIO.input(ECHO) == 0:\n",
    "            pulse_start = time.time()\n",
    "\n",
    "        while GPIO.input(ECHO) == 1:\n",
    "            pulse_end = time.time()\n",
    "\n",
    "        pulse_duration = pulse_end - pulse_start\n",
    "        distance = pulse_duration * 34300 / 2\n",
    "        \n",
    "        return distance #cm\n",
    "\n",
    "    def clean(self): \n",
    "        GPIO.cleanup([TRIG, ECHO])"
   ]
  },
  {
   "cell_type": "code",
   "execution_count": 4,
   "metadata": {},
   "outputs": [
    {
     "data": {
      "text/plain": [
       "53.20448875427246"
      ]
     },
     "execution_count": 4,
     "metadata": {},
     "output_type": "execute_result"
    }
   ],
   "source": [
    "ultra = Ultrasonic()\n",
    "ultra.get_dist()"
   ]
  },
  {
   "cell_type": "code",
   "execution_count": 7,
   "metadata": {},
   "outputs": [
    {
     "name": "stdout",
     "output_type": "stream",
     "text": [
      "11.85 cm\n",
      "11.96 cm\n",
      "11.78 cm\n"
     ]
    }
   ],
   "source": [
    "start_time = time.time()\n",
    "\n",
    "while time.time() - start_time < 3:\n",
    "    time.sleep(1)\n",
    "    print(f\"{ultra.get_dist():.2f} cm\")"
   ]
  },
  {
   "cell_type": "code",
   "execution_count": 8,
   "metadata": {},
   "outputs": [],
   "source": [
    "ultra.clean()"
   ]
  },
  {
   "cell_type": "code",
   "execution_count": null,
   "metadata": {},
   "outputs": [],
   "source": []
  }
 ],
 "metadata": {
  "kernelspec": {
   "display_name": "Python 3",
   "language": "python",
   "name": "python3"
  },
  "language_info": {
   "codemirror_mode": {
    "name": "ipython",
    "version": 3
   },
   "file_extension": ".py",
   "mimetype": "text/x-python",
   "name": "python",
   "nbconvert_exporter": "python",
   "pygments_lexer": "ipython3",
   "version": "3.12.3"
  }
 },
 "nbformat": 4,
 "nbformat_minor": 2
}
