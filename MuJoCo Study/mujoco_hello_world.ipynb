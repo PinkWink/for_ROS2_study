{
 "cells": [
  {
   "cell_type": "code",
   "execution_count": null,
   "id": "370035a1",
   "metadata": {},
   "outputs": [],
   "source": [
    "!pip install mujoco-python-viewer glfw\n",
    "!pip install mediapy\n",
    "!pip install ipywidgets\n",
    "!pip install control"
   ]
  },
  {
   "cell_type": "code",
   "execution_count": 1,
   "id": "65f1e2af",
   "metadata": {},
   "outputs": [],
   "source": [
    "import mujoco \n",
    "\n",
    "xml = \"\"\"\n",
    "<mujoco>\n",
    "    <worldbody>\n",
    "        <geom name=\"red_box\" type=\"box\" size=\".2 .2 .2\" rgba=\"1 0 0 1\"/>\n",
    "        <geom name=\"green_sphere\" pos=\".2 .2 .2\" size=\".1\" rgba=\"0 1 0 1\"/>\n",
    "    </worldbody>\n",
    "</mujoco>\n",
    "\"\"\""
   ]
  },
  {
   "cell_type": "code",
   "execution_count": 2,
   "id": "de5ab0f1",
   "metadata": {},
   "outputs": [],
   "source": [
    "model = mujoco.MjModel.from_xml_string(xml)\n",
    "data = mujoco.MjData(model)\n",
    "\n",
    "renderer = mujoco.Renderer(model, height=480, width=640)\n",
    "\n",
    "mujoco.mj_forward(model, data)\n",
    "renderer.update_scene(data)\n",
    "\n",
    "frames = renderer.render()"
   ]
  },
  {
   "cell_type": "code",
   "execution_count": 3,
   "id": "3b5953bb",
   "metadata": {},
   "outputs": [
    {
     "data": {
      "text/plain": [
       "<matplotlib.image.AxesImage at 0x16c37ea90>"
      ]
     },
     "execution_count": 3,
     "metadata": {},
     "output_type": "execute_result"
    },
    {
     "data": {
      "image/png": "[encoded data removed]",
      "text/plain": [
       "<Figure size 640x480 with 1 Axes>"
      ]
     },
     "metadata": {},
     "output_type": "display_data"
    }
   ],
   "source": [
    "import matplotlib.pyplot as plt\n",
    "\n",
    "plt.imshow(frames)"
   ]
  },
  {
   "cell_type": "code",
   "execution_count": 4,
   "id": "52890860",
   "metadata": {},
   "outputs": [
    {
     "name": "stdout",
     "output_type": "stream",
     "text": [
      "--- 모델 요약 (Counts) ---\n",
      "Geometries (geom): 2\n",
      "Bodies (body): 1\n",
      "Joints (joint): 0\n",
      "Actuators (actuator): 0\n",
      "Sensors (sensor): 0\n",
      "Equality constraints: 0\n",
      "Tendon constraints: 0\n",
      "Keyframes: 0\n"
     ]
    }
   ],
   "source": [
    "print(\"--- 모델 요약 (Counts) ---\")\n",
    "print(f\"Geometries (geom): {model.ngeom}\")  # 기하학적 객체 수\n",
    "print(f\"Bodies (body): {model.nbody}\")        # 바디(몸체) 수\n",
    "print(f\"Joints (joint): {model.njnt}\")         # 관절 수\n",
    "print(f\"Actuators (actuator): {model.nu}\")    # 액추에이터(구동기) 수\n",
    "print(f\"Sensors (sensor): {model.nsensor}\")      # 센서 수\n",
    "print(f\"Equality constraints: {model.neq}\") # 등식 제약 조건 수\n",
    "print(f\"Tendon constraints: {model.ntendon}\") # 텐던 수\n",
    "print(f\"Keyframes: {model.nkey}\")             # 키프레임 수"
   ]
  },
  {
   "cell_type": "code",
   "execution_count": 5,
   "id": "5e48b5ec",
   "metadata": {},
   "outputs": [
    {
     "name": "stdout",
     "output_type": "stream",
     "text": [
      "Body Names:\n",
      "  - world\n"
     ]
    }
   ],
   "source": [
    "# Body 이름 목록\n",
    "if model.nbody > 0:\n",
    "    print(\"Body Names:\")\n",
    "    for i in range(model.nbody):\n",
    "        print(f\"  - {model.body(i).name}\") "
   ]
  },
  {
   "cell_type": "code",
   "execution_count": 6,
   "id": "dba9abc9",
   "metadata": {},
   "outputs": [
    {
     "name": "stdout",
     "output_type": "stream",
     "text": [
      "Geom Names:\n",
      "  - red_box\n",
      "  - green_sphere\n"
     ]
    }
   ],
   "source": [
    "# Geom 이름 목록\n",
    "if model.ngeom > 0:\n",
    "    print(\"Geom Names:\")\n",
    "    for i in range(model.ngeom):\n",
    "        print(f\"  - {model.geom(i).name}\")"
   ]
  },
  {
   "cell_type": "code",
   "execution_count": 7,
   "id": "e015730e",
   "metadata": {},
   "outputs": [
    {
     "data": {
      "text/plain": [
       "<_MjModelGeomViews\n",
       "  bodyid: array([0], dtype=int32)\n",
       "  conaffinity: array([1], dtype=int32)\n",
       "  condim: array([3], dtype=int32)\n",
       "  contype: array([1], dtype=int32)\n",
       "  dataid: array([-1], dtype=int32)\n",
       "  friction: array([1.e+00, 5.e-03, 1.e-04])\n",
       "  gap: array([0.])\n",
       "  group: array([0], dtype=int32)\n",
       "  id: 1\n",
       "  margin: array([0.])\n",
       "  matid: array([-1], dtype=int32)\n",
       "  name: 'green_sphere'\n",
       "  pos: array([0.2, 0.2, 0.2])\n",
       "  priority: array([0], dtype=int32)\n",
       "  quat: array([1., 0., 0., 0.])\n",
       "  rbound: array([0.1])\n",
       "  rgba: array([0., 1., 0., 1.], dtype=float32)\n",
       "  sameframe: array([3], dtype=uint8)\n",
       "  size: array([0.1, 0. , 0. ])\n",
       "  solimp: array([9.0e-01, 9.5e-01, 1.0e-03, 5.0e-01, 2.0e+00])\n",
       "  solmix: array([1.])\n",
       "  solref: array([0.02, 1.  ])\n",
       "  type: array([2], dtype=int32)\n",
       "  user: array([], dtype=float64)\n",
       ">"
      ]
     },
     "execution_count": 7,
     "metadata": {},
     "output_type": "execute_result"
    }
   ],
   "source": [
    "model.geom('green_sphere')"
   ]
  },
  {
   "cell_type": "code",
   "execution_count": 8,
   "id": "60665e4f",
   "metadata": {},
   "outputs": [
    {
     "name": "stdout",
     "output_type": "stream",
     "text": [
      "id of \"green_sphere\":  1\n",
      "name of geom 1:  green_sphere\n",
      "name of body 0:  world\n"
     ]
    }
   ],
   "source": [
    "print('id of \"green_sphere\": ', model.geom('green_sphere').id)\n",
    "print('name of geom 1: ', model.geom(1).name)\n",
    "print('name of body 0: ', model.body(0).name)"
   ]
  },
  {
   "cell_type": "code",
   "execution_count": 9,
   "id": "21901a2c",
   "metadata": {},
   "outputs": [
    {
     "data": {
      "text/plain": [
       "['red_box', 'green_sphere']"
      ]
     },
     "execution_count": 9,
     "metadata": {},
     "output_type": "execute_result"
    }
   ],
   "source": [
    "[model.geom(i).name for i in range(model.ngeom)]"
   ]
  },
  {
   "cell_type": "code",
   "execution_count": 10,
   "id": "6bc53b0f",
   "metadata": {},
   "outputs": [],
   "source": [
    "model = mujoco.MjModel.from_xml_string(xml)\n",
    "data = mujoco.MjData(model)\n",
    "\n",
    "renderer = mujoco.Renderer(model, height=480, width=640)"
   ]
  },
  {
   "cell_type": "code",
   "execution_count": 11,
   "id": "6b4e4fa2",
   "metadata": {},
   "outputs": [],
   "source": [
    "duration = 5\n",
    "framerate = 60\n",
    "frames = []\n",
    "\n",
    "# MjvCamera\n",
    "cam = mujoco.MjvCamera()\n",
    "cam.lookat = [0.1, 0.1, 0.1]\n",
    "cam.distance = 2.0\n",
    "cam.elevation = -20"
   ]
  },
  {
   "cell_type": "code",
   "execution_count": 12,
   "id": "2177420a",
   "metadata": {},
   "outputs": [],
   "source": [
    "num_frames = duration * framerate\n",
    "for i in range(num_frames):\n",
    "    cam.azimuth = 360 * i / num_frames\n",
    "\n",
    "    mujoco.mj_forward(model, data)\n",
    "    \n",
    "    renderer.update_scene(data, camera=cam)\n",
    "\n",
    "    pixels = renderer.render()\n",
    "    frames.append(pixels)"
   ]
  },
  {
   "cell_type": "code",
   "execution_count": 33,
   "id": "83ad38fb",
   "metadata": {},
   "outputs": [],
   "source": [
    "from IPython.display import Image, clear_output, display\n",
    "import cv2\n",
    "\n",
    "def display_image(frame):\n",
    "    frame = cv2.cvtColor(frame, cv2.COLOR_BGR2RGB)\n",
    "    _, buffer = cv2.imencode('.jpg', frame)\n",
    "    clear_output(wait=True)\n",
    "    display(Image(data=buffer, width=500))"
   ]
  },
  {
   "cell_type": "code",
   "execution_count": 34,
   "id": "ba416844",
   "metadata": {},
   "outputs": [
    {
     "data": {
      "text/plain": [
       "300"
      ]
     },
     "execution_count": 34,
     "metadata": {},
     "output_type": "execute_result"
    }
   ],
   "source": [
    "len(frames)"
   ]
  },
  {
   "cell_type": "code",
   "execution_count": 36,
   "id": "ab018888",
   "metadata": {},
   "outputs": [
    {
     "data": {
      "image/png": "[encoded data removed]",
      "text/plain": [
       "<IPython.core.display.Image object>"
      ]
     },
     "metadata": {
      "image/png": {
       "width": 500
      }
     },
     "output_type": "display_data"
    }
   ],
   "source": [
    "import time \n",
    "for frame in frames:\n",
    "    display_image(frame)\n",
    "    time.sleep(1/framerate)"
   ]
  },
  {
   "cell_type": "code",
   "execution_count": null,
   "id": "fb2595e7",
   "metadata": {},
   "outputs": [],
   "source": []
  }
 ],
 "metadata": {
  "kernelspec": {
   "display_name": "mujoco",
   "language": "python",
   "name": "python3"
  },
  "language_info": {
   "codemirror_mode": {
    "name": "ipython",
    "version": 3
   },
   "file_extension": ".py",
   "mimetype": "text/x-python",
   "name": "python",
   "nbconvert_exporter": "python",
   "pygments_lexer": "ipython3",
   "version": "3.11.13"
  }
 },
 "nbformat": 4,
 "nbformat_minor": 5
}
