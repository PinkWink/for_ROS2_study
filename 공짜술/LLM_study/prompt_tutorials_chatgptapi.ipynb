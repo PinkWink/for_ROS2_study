{
 "cells": [
  {
   "cell_type": "code",
   "execution_count": 1,
   "metadata": {},
   "outputs": [],
   "source": [
    "import os\n",
    "from dotenv import load_dotenv\n",
    "from openai import OpenAI\n",
    "\n",
    "load_dotenv()\n",
    "\n",
    "openai_api_key = os.environ[\"OPENAI_API_KEY\"]\n",
    "client = OpenAI(api_key=openai_api_key)"
   ]
  },
  {
   "cell_type": "code",
   "execution_count": 10,
   "metadata": {},
   "outputs": [],
   "source": [
    "system_message = \"\"\"\n",
    "당신은 주어진 텍스트를 바탕으로 튜토리얼을 생성하는 AI 어시스턴트입니다.\n",
    "텍스트에 어떤 절차를 진행하는 방법에 대한 지침이 포함되어 있다면, \n",
    "글머리 기호 목록 형식으로 튜토리얼을 생성하십시오.\n",
    "그렇지 않으면 텍스트에 지침이 포함되어 있지 않음을 사용자에게 알리십시오.\n",
    "\"\"\"\n",
    "\n",
    "instructions = \"\"\"\n",
    "라면 봉지를 개봉하고, 끓는 물에 라면을 넣습니다. \n",
    "약 3분 정도 시간이 지나면 빈그릇을 준비해서 최대한 가운데에 스프를 모아 놓습니다.\n",
    "그리고 방금 끓인 라면의 면만 꺼내서 스프 위에 놓습니다.\n",
    "그리고 면을 끓인 뜨거운 물을 부어줍니다.\n",
    "먹을 때는 젓가락으로 저어주면 라면 스프가 녹으면서 맛있는 라면이 됩니다.\n",
    "단, 이 방법은 맵지 않은 라면에만 적용됩니다.\n",
    "\"\"\""
   ]
  },
  {
   "cell_type": "code",
   "execution_count": 11,
   "metadata": {},
   "outputs": [
    {
     "name": "stdout",
     "output_type": "stream",
     "text": [
      "라면 준비 방법 튜토리얼:\n",
      "\n",
      "- 라면 봉지를 개봉합니다.\n",
      "- 끓는 물에 라면 면을 넣습니다.\n",
      "- 약 3분 정도 시간을 기다립니다.\n",
      "- 빈그릇을 준비하고, 그릇의 가운데에 스프를 모아 놓습니다.\n",
      "- 끓인 라면의 면만 꺼내서 스프 위에 놓습니다.\n",
      "- 면을 끓인 뜨거운 물을 스프와 면 위에 부어줍니다.\n",
      "- 먹기 전에 젓가락으로 저어서 스프를 녹입니다.\n",
      "- 주의: 이 방법은 맵지 않은 라면에만 적용하세요.\n"
     ]
    }
   ],
   "source": [
    "response = client.chat.completions.create(\n",
    "    model=\"gpt-4o\",\n",
    "    messages=[\n",
    "        {\"role\": \"system\", \"content\": system_message},\n",
    "        {\"role\": \"user\", \"content\": instructions},\n",
    "    ]\n",
    ")\n",
    "\n",
    "print(response.choices[0].message.content)"
   ]
  },
  {
   "cell_type": "markdown",
   "metadata": {},
   "source": [
    "### 라면 조리 튜토리얼\n",
    "\n",
    "1. 라면 봉지를 개봉합니다.\n",
    "2. 끓는 물에 라면을 넣습니다.\n",
    "3. 약 3분 정도 기다립니다.\n",
    "4. 빈 그릇을 준비합니다.\n",
    "5. 스프를 최대한 가운데에 모아 놓습니다.\n",
    "6. 방금 끓인 라면의 면만 꺼내어 스프 위에 놓습니다.\n",
    "7. 끓인 뜨거운 물을 면 위에 부어줍니다.\n",
    "8. 먹을 때는 젓가락으로 저어주어 라면 스프가 녹도록 합니다.\n",
    "\n",
    "> **주의:** 이 방법은 맵지 않은 라면에만 적용됩니다."
   ]
  },
  {
   "cell_type": "code",
   "execution_count": 13,
   "metadata": {},
   "outputs": [
    {
     "name": "stdout",
     "output_type": "stream",
     "text": [
      "지침이 포함되어 있지 않은 텍스트입니다.\n"
     ]
    }
   ],
   "source": [
    "response = client.chat.completions.create(\n",
    "    model=\"gpt-4o\",\n",
    "    messages=[\n",
    "        {\"role\": \"system\", \"content\": system_message},\n",
    "        {\"role\": \"user\", \"content\": '아름다운 밤입니다.'},\n",
    "    ]\n",
    ")\n",
    "\n",
    "#print(response)\n",
    "print(response.choices[0].message.content)"
   ]
  },
  {
   "cell_type": "code",
   "execution_count": 14,
   "metadata": {},
   "outputs": [],
   "source": [
    "system_message = \"\"\"\n",
    "당신은 글을 요약하는 AI 어시스턴트입니다.\n",
    "이 작업을 완료하려면 다음 하위 작업을 수행하십시오:\n",
    "\n",
    "제공된 글의 내용을 종합적으로 읽고 주요 주제와 핵심 요점을 식별합니다.\n",
    "현재 기사 내용을 요약하여 본질적인 정보와 주요 아이디어를 전달하는 단락 요약을 생성합니다.\n",
    "과정의 각 단계를 출력합니다.\n",
    "\"\"\"\n",
    "\n",
    "article = \"\"\"\n",
    "'상대성'은 본래 이론의 주요 기반 중 하나인 상대성 원리로부터 유래되었는데, 아인슈타인은 자신의 이론을 일종의 방법론으로 여겨서 그냥 '상대성 원리'라 불렀으나 막스 플랑크가 \"이론\"으로 승격하려는 과정에서 '원리'를 빼서 '상대성 이론'이라고 불렀고 훗날 이름이 후자로 굳어졌다.\n",
    "사실 상대성 이론이라는 말은 과학 이론 중에서 가장 혼란을 주는 명칭 중 하나로 악명이 높다. 상대성 이론의 두 축은 물리법칙과 좌표계이다. 여기에서 좌표계는 시간과 공간을 말한다. 상대성 이론의 발단이 된 '상대성 원리'의 주요 철학은 모든 좌표계에서 물리 법칙이 동일하게 기술된다는 '절대성'인데, 상대성 이론에 대해 흔히 알려져 있는 내용은 전부 즉 시간과 공간의 '상대성'에 대한 것이다. 즉 상대성 이론은 물리법칙의 절대성, 좌표계의 상대성을 말해준다. 매우 미묘한 이름 선정인 셈인데 '상대성'이라는 이름이 워낙 어그로를 잘 끌다보니 예술 등 비전문 분야에서는 아무데나 상대성을 갖다 붙이는 폐단이 발생했다(과학 분야가 다 그렇기는 하지만). 아인슈타인 본인의 경우 \"상대성 이론\"에 약간의 불만을 드러낸 적은 있으나 부분적으로는 이름이 맞다고 생각했고, 무엇보다 이미 유명해진 이름을 굳이 바꾸려 들지는 않았다.\n",
    "한편 고전 역학, 전자기학, 양자 역학 등 다른 분야와 달리 혼자 \"이론\"이라 불려 뭔가 다른 건가 싶을 수 있는데, 단순한 이름 차이에 가깝다. 영어로는 보통 \"Relativity\"라 불리며 물리학에서 이미 확고히 자리 잡은 하나의 연구 분야이다. 이들은 모두 합리적인 가설을 바탕으로 하고, 실험적으로 잘 검증된 과학적 이론(scientific theory)이다.\n",
    "용어에 통일이 엄격하게 되어있지는 않으나, 보통 상대성 이론은 아인슈타인의 두 이론(특수 상대성 이론, 일반 상대성 이론)을 통칭하는 것으로써 그 자체로 물리학의 특정 대상을 다룬다기보다는 하나의 \"방법론\"으로서 기능한다. 따라서 상대성 이론의 연구는 물리학의 각 분야에 개별 적용되는 방식으로 이루어진다. 고전 역학을 상대론적으로 다룬다면 \"상대론적 역학\", 양자 역학을 상대론적으로 다룬다면 \"상대론적 양자 역학\"이 되는 식이다. 여기에서 \"상대론적\"(relativistic)이라 함은 말 그대로 \"상대론\"이 쓰일만한 상황, 즉 \"입자의 속도가 빛의 속력에 견줄만한 상황\"에 적용됨을 말하는 것이다. 흔히 상대성 이론을 기반으로 물리학을 연구하는 분야 전체를 통틀어서 상대론적 역학(Relativistic mechanics)이라 한다. 아인슈타인은 \"특수 상대성 이론\"과 \"일반 상대성 이론\"을 개발해냄으로써 이 분야를 창시했고, 이들은 아인슈타인의 상대성 이론을 이루는 두 이론임과 동시에 상대론적 역학의 핵심을 이룬다. 한편, 상대론의 방법론을 사용하되 아인슈타인의 것과는 다른 방법을 사용하고자 하는 대안 이론들이 있다. 이들은 상대론적 역학에는 속하지만 \"아인슈타인의\" 상대성 이론은 아니다.\n",
    "\"\"\"\n",
    "\n",
    "# 출처 : https://namu.wiki/w/%EC%83%81%EB%8C%80%EC%84%B1%20%EC%9D%B4%EB%A1%A0"
   ]
  },
  {
   "cell_type": "code",
   "execution_count": 15,
   "metadata": {},
   "outputs": [
    {
     "name": "stdout",
     "output_type": "stream",
     "text": [
      "### 단계 1: 주요 주제 및 핵심 요점 식별\n",
      "\n",
      "- **상대성 이론의 기원과 명명**: 상대성 이론은 아인슈타인이 제안한 '상대성 원리'에서 유래되었으며, 막스 플랑크에 의해 '상대성 이론'으로 불리게 되었다.\n",
      "- **이름에 대한 혼란**: '상대성 이론'이라는 명칭은 오해를 부를 수 있는 이름으로, 물리법칙의 '절대성'과 시간/공간 좌표계의 '상대성'을 강조한다.\n",
      "- **'이론'으로서의 자리매김**: 상대성 이론은 물리학의 확고한 연구 분야로 자리 잡았다.\n",
      "- **상대성 이론의 적용**: 고전 역학, 양자 역학 등 다양한 물리학 분야에 상대론적 접근이 가능하며, 상대성 이론은 아인슈타인의 특수 및 일반 상대성 이론을 통해 구현된다.\n",
      "- **대안 이론의 존재**: 아인슈타인의 방법과 다른 대안 이론도 존재하지만, 이는 '상대론적 역학'에 포함되지만 '아인슈타인의' 상대성 이론은 아니다.\n",
      "\n",
      "### 단계 2: 글 요약 생성\n",
      "\n",
      "상대성 이론은 아인슈타인의 '상대성 원리'에서 유래되었으며, 물리법칙의 절대성과 시간 및 공간 좌표계의 상대성을 기반으로 한다. 비록 '상대성 이론'이라는 이름은 혼란을 초래할 수 있지만, 이는 물리학에서 확고한 연구 분야로 자리 잡았다. 아인슈타인의 특수 및 일반 상대성 이론은 이러한 이론의 중심을 이루며 다양한 물리학 분야에 상대론적 접근을 가능케 한다. 또한, 상대론적 방법을 사용하되 아인슈타인의 방식과 다른 대안 이론들도 존재한다.\n"
     ]
    }
   ],
   "source": [
    "response = client.chat.completions.create(\n",
    "    model=\"gpt-4o\",\n",
    "    messages=[\n",
    "        {\"role\": \"system\", \"content\": system_message},\n",
    "        {\"role\": \"user\", \"content\": article},\n",
    "    ]\n",
    ")\n",
    "\n",
    "#print(response)\n",
    "print(response.choices[0].message.content)"
   ]
  },
  {
   "cell_type": "markdown",
   "metadata": {},
   "source": [
    "### 단계 1: 주요 주제 및 핵심 요점 식별\n",
    "\n",
    "- **상대성 이론의 기원과 명명**: 상대성 이론은 아인슈타인이 제안한 '상대성 원리'에서 유래되었으며, 막스 플랑크에 의해 '상대성 이론'으로 불리게 되었다.\n",
    "- **이름에 대한 혼란**: '상대성 이론'이라는 명칭은 오해를 부를 수 있는 이름으로, 물리법칙의 '절대성'과 시간/공간 좌표계의 '상대성'을 강조한다.\n",
    "- **'이론'으로서의 자리매김**: 상대성 이론은 물리학의 확고한 연구 분야로 자리 잡았다.\n",
    "- **상대성 이론의 적용**: 고전 역학, 양자 역학 등 다양한 물리학 분야에 상대론적 접근이 가능하며, 상대성 이론은 아인슈타인의 특수 및 일반 상대성 이론을 통해 구현된다.\n",
    "- **대안 이론의 존재**: 아인슈타인의 방법과 다른 대안 이론도 존재하지만, 이는 '상대론적 역학'에 포함되지만 '아인슈타인의' 상대성 이론은 아니다.\n",
    "\n",
    "### 단계 2: 글 요약 생성\n",
    "\n",
    "상대성 이론은 아인슈타인의 '상대성 원리'에서 유래되었으며, 물리법칙의 절대성과 시간 및 공간 좌표계의 상대성을 기반으로 한다. 비록 '상대성 이론'이라는 이름은 혼란을 초래할 수 있지만, 이는 물리학에서 확고한 연구 분야로 자리 잡았다. 아인슈타인의 특수 및 일반 상대성 이론은 이러한 이론의 중심을 이루며 다양한 물리학 분야에 상대론적 접근을 가능케 한다. 또한, 상대론적 방법을 사용하되 아인슈타인의 방식과 다른 대안 이론들도 존재한다."
   ]
  },
  {
   "cell_type": "code",
   "execution_count": 16,
   "metadata": {},
   "outputs": [],
   "source": [
    "system_message = \"\"\"\n",
    "당신은 수수께끼를 푸는 데 특화된 AI 어시스턴트입니다.\n",
    "주어진 수수께끼를 최선을 다해 풀어주세요.\n",
    "답변에 대한 명확한 정당화와 그 뒤의 추론 과정을 제공해 주세요.\n",
    "\"\"\"\n",
    "\n",
    "riddle = \"\"\"\n",
    "사람들이 싫어하는 금은 무엇일까요?\n",
    "\"\"\" "
   ]
  },
  {
   "cell_type": "code",
   "execution_count": 17,
   "metadata": {},
   "outputs": [
    {
     "name": "stdout",
     "output_type": "stream",
     "text": [
      "이 수수께끼는 언어 유희를 기반으로 하고 있습니다. 여기서 \"금\"은 표준적인 금속인 금을 의미하지 않습니다. 수수께끼의 주제는 사람들이 싫어하는 종류의 \"금\"을 찾는 것입니다. \n",
      "\n",
      "한국어에서 \"금\"은 여러 가지 의미를 가지며, 그 중 하나는 금지의 의미를 가진 \"금지\"의 \"금\"입니다. 이 경우, \"금지\"란 어떤 것을 하지 못하게 하는 행위이거나 상태이며, 일반적으로 사람들이 부담스러워하거나 싫어할 수 있는 것을 뜻합니다. 예를 들어, 공공장소에서의 \"금연\"이나 특정 행위에 대한 \"출입 금지\" 등이 있습니다.\n",
      "\n",
      "따라서, 사람들이 싫어할 만한 \"금\"이란 \"금지\"를 의미하는 언어 유희적인 답변입니다. \n",
      "\n",
      "답변은 \"금지\"입니다.\n"
     ]
    }
   ],
   "source": [
    "response = client.chat.completions.create(\n",
    "    model=\"gpt-4o\",\n",
    "    messages=[\n",
    "        {\"role\": \"system\", \"content\": system_message},\n",
    "        {\"role\": \"user\", \"content\": riddle},\n",
    "    ]\n",
    ")\n",
    "\n",
    "#print(response)\n",
    "print(response.choices[0].message.content)"
   ]
  },
  {
   "cell_type": "markdown",
   "metadata": {},
   "source": [
    "이 수수께끼의 답은 \"세금\"입니다.\n",
    "\n",
    "**정당화 및 추론 과정:**\n",
    "\n",
    "1. **단어의 유사성**: '세금'과 '금'이라는 단어가 들어가 있습니다. 이는 문제에서 '금'이란 단어와 연관 있으며, '싫어하는'이라는 감정을 불러일으킬 수 있는 단어로 연상될 수 있습니다.\n",
    "\n",
    "2. **사회적 감정**: 일반적으로 사람들은 세금을 내는 것을 좋아하지 않거나 싫어하는 경향이 있습니다. 세금은 개인의 소득이나 재산에서 일정 부분을 정부에 납부해야 하는 것이기 때문에 많은 사람들에게 부담으로 느껴집니다.\n",
    "\n",
    "3. **수수께끼의 특성**: 수수께끼는 일반적으로 언어유희나 비유적 표현을 포함하여 사람들의 생각을 자극하는 형태로 제시됩니다. '싫어하는 금'은 짧은 단어 조합으로 사람들의 머리를 회전시켜, 답을 찾게 하려는 의도를 가지고 있습니다.\n",
    "\n",
    "따라서 \"세금\"이 정답이라고 할 수 있습니다."
   ]
  },
  {
   "cell_type": "code",
   "execution_count": 10,
   "metadata": {},
   "outputs": [],
   "source": [
    "system_message = \"\"\"\n",
    "당신은 수수께끼를 푸는 데 특화된 AI 어시스턴트입니다.\n",
    "주어진 수수께끼에 대해 세 가지 답변을 생성해야 합니다.\n",
    "각 답변에 대해, 당신이 한 추론 과정을 구체적으로 설명해주세요.\n",
    "그런 다음, 세 가지 답변 중에서 수수께끼를 고려했을 때 가장 그럴듯한 것을 선택하세요.\n",
    "\"\"\"\n",
    "\n",
    "riddle = \"\"\"\n",
    "사람들이 싫어하는 금은 무엇일까요?\"\"\""
   ]
  },
  {
   "cell_type": "code",
   "execution_count": null,
   "metadata": {},
   "outputs": [],
   "source": [
    "response = client.chat.completions.create(\n",
    "    model=\"gpt-4o\",\n",
    "    messages=[\n",
    "        {\"role\": \"system\", \"content\": system_message},\n",
    "        {\"role\": \"user\", \"content\": riddle},\n",
    "    ]\n",
    ")\n",
    "\n",
    "#print(response)\n",
    "print(response.choices[0].message.content)"
   ]
  },
  {
   "cell_type": "code",
   "execution_count": 18,
   "metadata": {},
   "outputs": [],
   "source": [
    "system_message = \"\"\"\n",
    "당신은 파이썬 전문가로서 사용자의 요청에 따라 파이썬 코드를 생성합니다.\n",
    "\n",
    "===>예제 시작\n",
    "\n",
    "---사용자 질문---\n",
    "문자열을 출력하는 함수를 만들어주세요.\n",
    "\n",
    "---사용자 출력---\n",
    "문자열을 출력하는 함수는 아래와 같습니다.\n",
    "```def my_print(text):\n",
    "    return print(text)\n",
    "```\n",
    "<===예제 끝\n",
    "\"\"\"\n",
    "\n",
    "query = \"n번째 피보나치 수를 계산하는 파이썬 함수를 생성하세요\""
   ]
  },
  {
   "cell_type": "code",
   "execution_count": 19,
   "metadata": {},
   "outputs": [
    {
     "name": "stdout",
     "output_type": "stream",
     "text": [
      "n번째 피보나치 수를 계산하는 함수는 아래와 같습니다.\n",
      "\n",
      "```python\n",
      "def fibonacci(n):\n",
      "    if n <= 0:\n",
      "        return \"Input should be a positive integer\"\n",
      "    elif n == 1:\n",
      "        return 0\n",
      "    elif n == 2:\n",
      "        return 1\n",
      "    else:\n",
      "        a, b = 0, 1\n",
      "        for _ in range(2, n):\n",
      "            a, b = b, a + b\n",
      "        return b\n",
      "```\n"
     ]
    }
   ],
   "source": [
    "response = client.chat.completions.create(\n",
    "    model=\"gpt-4o\",\n",
    "    messages=[\n",
    "        {\"role\": \"system\", \"content\": system_message},\n",
    "        {\"role\": \"user\", \"content\": query},\n",
    "    ]\n",
    ")\n",
    "\n",
    "#print(response)\n",
    "print(response.choices[0].message.content)"
   ]
  },
  {
   "cell_type": "markdown",
   "metadata": {},
   "source": [
    "n번째 피보나치 수를 계산하는 함수는 아래와 같습니다.\n",
    "\n",
    "```python\n",
    "def fibonacci(n):\n",
    "    if n <= 0:\n",
    "        return \"Input should be a positive integer.\"\n",
    "    elif n == 1:\n",
    "        return 0\n",
    "    elif n == 2:\n",
    "        return 1\n",
    "    else:\n",
    "        a, b = 0, 1\n",
    "        for _ in range(2, n):\n",
    "            a, b = b, a + b\n",
    "        return b\n",
    "```\n",
    "\n",
    "사용 예시는 다음과 같습니다:\n",
    "```python\n",
    "print(fibonacci(10))  # 출력: 34\n",
    "```"
   ]
  },
  {
   "cell_type": "code",
   "execution_count": 20,
   "metadata": {},
   "outputs": [],
   "source": [
    "system_message = \"\"\"\n",
    "당신은 AI 마케팅 도우미입니다. 사용자가 새로운 제품 이름에 대한 캐치프레이즈를 만들 수 있도록 도와줍니다.\n",
    "주어진 용도와 제품명에 대해 다음 예시와 비슷한 홍보 문구를 만들어주세요.\n",
    "\n",
    "용도 : 냉장고, 이름 : 디오스 냉장고,  캐치프레이즈 : 여자라서 행복해요\n",
    "용도 : 햄버거, 이름 : 롯데리아 크랩버거, 캐치프레이즈 : 니들이 게 맛을 알아?\n",
    "용도 : 통신, 이름 : SK텔레콤,  캐치프레이즈 : 또 다른 세상을 만날 땐 잠시 꺼두셔도 좋습니다\n",
    "\n",
    "\"\"\"\n",
    "\n",
    "product_name = '용도 : AI 교육용 로봇, 이름 : Pinky'"
   ]
  },
  {
   "cell_type": "code",
   "execution_count": 23,
   "metadata": {},
   "outputs": [
    {
     "name": "stdout",
     "output_type": "stream",
     "text": [
      "캐치프레이즈 : 세상을 배우는 작은 손길, 핑키와 함께!\n"
     ]
    }
   ],
   "source": [
    "response = client.chat.completions.create(\n",
    "    model=\"gpt-4o\", # engine = \"deployment_name\".\n",
    "    messages=[\n",
    "        {\"role\": \"system\", \"content\": system_message},\n",
    "        {\"role\": \"user\", \"content\": product_name},\n",
    "    ]\n",
    ")\n",
    "\n",
    "#print(response)\n",
    "print(response.choices[0].message.content)"
   ]
  },
  {
   "cell_type": "code",
   "execution_count": null,
   "metadata": {},
   "outputs": [],
   "source": []
  }
 ],
 "metadata": {
  "kernelspec": {
   "display_name": "llm_study",
   "language": "python",
   "name": "python3"
  },
  "language_info": {
   "codemirror_mode": {
    "name": "ipython",
    "version": 3
   },
   "file_extension": ".py",
   "mimetype": "text/x-python",
   "name": "python",
   "nbconvert_exporter": "python",
   "pygments_lexer": "ipython3",
   "version": "3.10.15"
  }
 },
 "nbformat": 4,
 "nbformat_minor": 2
}
